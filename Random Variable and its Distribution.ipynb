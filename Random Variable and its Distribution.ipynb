{
 "cells": [
  {
   "cell_type": "markdown",
   "metadata": {},
   "source": [
    "# 随机变量及其分布 Random Variable and its Distribution"
   ]
  },
  {
   "cell_type": "markdown",
   "metadata": {},
   "source": [
    "包括以下内容：\n",
    "    1. 随机变量 Random Variable\n",
    "    2. 伯努利分布 Bernoulli Distribution\n",
    "    3. 二项分布 Binomial Distribution\n",
    "    4. 泊松分布 Poisson Distribution\n",
    "    5. 均匀分布 Uniform Distribution\n",
    "    6. 指数分布 Exponential Distribution\n",
    "    7. 正态分布 Normal Distribution"
   ]
  },
  {
   "cell_type": "markdown",
   "metadata": {},
   "source": [
    "引入科学计算及绘图相关包"
   ]
  },
  {
   "cell_type": "code",
   "execution_count": 1,
   "metadata": {
    "collapsed": true
   },
   "outputs": [],
   "source": [
    "import numpy as np\n",
    "import pandas as pd\n",
    "from pandas import Series, DataFrame\n",
    "# 引入绘图包\n",
    "import matplotlib.pyplot as plt\n",
    "%matplotlib inline"
   ]
  },
  {
   "cell_type": "markdown",
   "metadata": {},
   "source": [
    "### 1. 随机变量 Random Variable\n",
    "\n",
    "定义：设随机试验的样本空间为 S = {e}。X = X(e)是定义在样本空间S上的实值单值函数。称 X = X(e)为随机变量。\n",
    "\n",
    "例：将一枚硬币抛掷三次，观察出现正面和反面的情况，样本空间是\n",
    "S = {HHH, HHT, HTH, THH, HTT, THT, TTH, TTT}。\n",
    "以X记三次投掷得到正面H的总数，那么，对于样本空间 S = {e}（用 e 代表样本空间的元素，而将样本空间记成{e}）中的每一个样本点 e，X 都有一个数与之对应。X 是定义在样本空间 S 上的一个实值单值函数。它的定义域是样本空间 S，值域是实数集合{0, 1, 2, 3}。使用函数记号可将X写成\n",
    "$$ X = X(e) =\\left\\{\n",
    "\\begin{aligned}\n",
    "3 & , e = HHH, \\\\\n",
    "2 & , e = HHT, HTH, THH, \\\\\n",
    "1 & , e = HTT, THT, TTH, \\\\\n",
    "0 & , e = TTT.\n",
    "\\end{aligned}\n",
    "\\right.\n",
    "$$\n",
    "\n",
    "有许多随机试验，它们的结果本身是一个数，即样本点 e 本身是一个数。我们令 X = X(e) = e，那么 X 就是一个随机变量。例如，用 Y 记某车间一天的缺勤人数，以 W 记某地区第一季度的降雨量，以 Z 记某工厂一天的耗电量，以 N 记某医院一天的挂号人数。那么 Y, W, Z, N 都是随机变量。\n",
    "\n",
    "一般用大写的字母如 X, Y, Z, W, ... 表示随机变量，而以小写字母 x, y, z, w, ... 表示实数。\n",
    "\n",
    "随机变量的取值随试验的结果而定，而试验的各个结果出现有一定的概率，因为随机变量的取值有一定的概率。例如，在上述例子中 X 取值为2，记成{X = 2}，对应样本点的集合 A = {HHT, HTH, THH}，这是一个时间，当且仅当事件 A 发生时有{X = 2}。我们称概率P(A) = P{HHT, HTH, THH}为{X = 2}的概率，即P{X = 2} = P(A) = 3 / 8。以后，还将事件 A = {HHT, HTH, THH}说成是事件{X = 2}。类似地有\n",
    "$$ P\\{X \\leq 1\\} = P\\{HTT, THT, TTH, TTT\\} = \\frac{1}{2} $$\n",
    "\n",
    "一般，若 L 是一个实数集合，将 X 在 L 上的取值写成{X ∈ L}。它表示事件 B = {e | X(e) ∈ L}，即 B 是由 S 中使得 X(e) ∈ L 的所有样本点 e 所组成的事件，此时有\n",
    "$$ P\\{X \\in L \\} = P(B) = P\\{ e | X(e) \\in L\\} $$\n",
    "\n",
    "#### 1.1 离散型随机变量 Discrete Random Variable\n",
    "\n",
    "有些随机变量，它全部可能取到的值是有限个或可列无限多个，这种随机变量称为**离散型随机变量**。\n",
    "\n",
    "容易知道，要掌握一个离散型随机变量 X 的统计规律，必须且只需知道 X 的所有可能取值以及取每一个可能值的概率。\n",
    "\n",
    "设离散型随机变量 X 的所有可能取的值为 $x_k$(k = 1, 2, ...)，X 取各个可能值的概率，即事件{X = $x_k$}的概率，为\n",
    "$$ P\\{X = X_k \\} = p_k，k = 1,2, ... $$\n",
    "由概率的定义，p<sub>k</sub>满足如下两个条件：\n",
    "$$ p_k \\geq 0, k = 1,2，...; $$\n",
    "$$ \\begin{equation*}\n",
    "\\sum_{k=1}^\\infty p_k = 1\n",
    "\\end{equation*}\n",
    "$$\n",
    "其中，条件二是由于 $\\{X = x_1\\} \\cup \\{X = x_2\\} \\cup ... $ 是必然事件，且 $\\{X = x_1\\} \\cap \\{X = x_2\\} \\cap ... = \\emptyset $，$ k \\neq j  $，故$ 1 = P[\\bigcup_{k=1}^\\infty {X = x_k}] = \\sum_{k=1}^\\infty P\\{X = x_k\\} $，即$ \\sum_{k=1}^\\infty p_k = 1 $。\n",
    "\n",
    "我们称$ P\\{X = X_k \\} = p_k，k = 1,2, ... $为离散型随机变量 X 的分布律。分布律也可以用表格的形式来表示\n",
    "\n",
    "$$\\begin{array}{rr} \\hline\n",
    "X &x_1 &x_2 &... &x_n &... \\\\ \\hline\n",
    "P_k &p_1 &p_2 &... &p_n &... \\\\ \\hline\n",
    "\\end{array}$$\n",
    "\n",
    "#### 1.2 随机变量的分布函数 Distribution Function of Random Variable\n",
    "\n",
    "对于非离散型随机变量 X，由于其可能取的值不能一一列举出来，因而就不能像离散型随机变量那样可以用分布律来描述它。另外，我们通常所遇到的非离散型随机变量取任一指定的实数值的概率都等于0。再者，在实际中，对于这样的随机变量，我们并不会对取某一特定值的概率感兴趣，而是考虑在某个区间$(x_1, x_2]$内的概率：$P\\{x_1 < X \\leq x_2 \\}$。但由于$ P\\{x_1 < X \\leq x_2 \\} = P\\{X \\leq x_2\\} - P\\{X \\leq x_1\\} $，所以我们只需要知道$ P\\{X \\leq x_2 \\} $和$ P\\{X \\leq x_1 \\} $就可以了。下面引入随机变量的分布函数的概念。\n",
    "\n",
    "定义：设 X 是一个随机变量，x是任意实数，函数$ F(x) = P\\{X \\leq x \\}, -\\infty < x < \\infty $称为X的**分布函数**。\n",
    "\n",
    "对于任意实数$x_1, x_2(x_1 < x_2)$，有$P\\{x_1 < X \\leq x_2\\} = P\\{X \\leq x_2\\}-P\\{X \\leq x_1\\} = F(x_2) - F(x_1)$，因此，若已知 X 的分布函数，我们就知道 X 落在任一区间$(x_1, x_2]$上的概率，从这个意义上说，分布函数完整地描述了随机变量的统计规律性。\n",
    "\n",
    "分布函数是一个普通的函数，正是通过它，我们将能用数学分析的方法来研究随机变量。\n",
    "\n",
    "如果将 X 看成是数轴上的随机点的坐标，那么，分布函数F(x)在x处的函数值就表示X落在区间$(-\\infty, x_2]$上的概率。\n",
    "\n",
    "分布函数F(x)具有以下的基本性质：\n",
    "\n",
    "1. F(x)是一个不减函数。事实上，对于任意实数$x_1, x_2(x_1 < x_2)$，有\n",
    "$$F(x_2) - F(x_1) = P\\{x_1 < X \\leq x_2\\} \\geq 0$$\n",
    "2. $0 \\leq F(x) \\leq 1$，且\n",
    "$$F(-\\infty) = \\lim_{x \\to -\\infty} = 0, F(\\infty) = \\lim_{x \\to \\infty} = 1$$\n",
    "3. $F(x+0)=F(x)$，即F(x)是右连续的。\n",
    "\n",
    "反之，可证具备上述性质的函数F(x)必是某个随机变量的分布函数。\n",
    "\n",
    "#### 1.3 连续型随机变量及其概率密度 Continuous Random Variable and its Probability Density\n",
    "\n",
    "如果对于随机变量 X 的分布函数F(x)，存在非负可积函数f(x)，使对于任意实数 x 有\n",
    "$$ F(x) = \\int_{-\\infty}^x f(t)dt $$\n",
    "则称 X 为**连续型随机变量**，f(x)称为 X 的**概率密度函数**，简称**概率密度**。\n",
    "\n",
    "据数学分析的知识知连续型随机变量的分布函数是连续函数。\n",
    "\n",
    "由定义知道，概率密度f(x)具有以下性质：\n",
    "\n",
    "1. $f(x) \\geq 0$;\n",
    "2. $\\int_{-\\infty}^{\\infty} f(x)dx = 1$;\n",
    "3. 对于任意实数$x_1, x_2(x_1 \\leq x_2)$，\n",
    "$$ P\\{x_1 < X \\leq x_2\\} = F(x_2) - F(x_1) = \\int_{x_1}^{x_2} f(x)dx $$\n",
    "4. 若f(x)在点 x 处连续，则有$F'(x) = f(x)$\n",
    "\n",
    "反之，若f(x)具备性质1,2，引入$G(x) = \\int_{-\\infty}^x f(t)dt$，它是某一随机变量 X 的分布函数，f(x)是 X 的概率密度。\n",
    "\n",
    "由性质2知道介于曲线y=f(x)与Ox轴之间的面积等于1，由3知道 X 落在区间$(x_1, x_2]$的概率$P\\{x_1 < X \\leq x_2\\}$等于区间$(x_1, x_2]$上曲线y=f(x)之下的曲边梯形的面积。"
   ]
  },
  {
   "cell_type": "markdown",
   "metadata": {},
   "source": [
    "### 2. 伯努利分布 Bernoulli Distribution\n",
    "\n",
    "伯努利分布又称(0 - 1)分布\n",
    "\n",
    "设随机变量X只可能取 0 与 1 两个值，它的分布律是\n",
    "$$ P\\{X=k\\} = p^k(1-p)^{1-k}, k=0,1 (0 < p < 1) $$\n",
    "则称X服从以p为参数的(0 - 1)分布或两点分布。\n",
    "\n",
    "(0 - 1)分布的分布律也可写成\n",
    "$$\\begin{array}{rr} \\hline\n",
    "X &0 &1 \\\\ \\hline\n",
    "P_k &1-p &p \\\\ \\hline\n",
    "\\end{array}$$"
   ]
  },
  {
   "cell_type": "markdown",
   "metadata": {},
   "source": [
    "### 3. 二项分布 Binomial Distribution\n",
    "\n",
    "设试验 E 只有两个可能结果：$A$及$\\overline{A}$，则称 E 为伯努利试验，设$P(A)=p(0<p<1)$，此时$P(\\overline{A})=1-p$。将 E 独立重复n次，则称这一串重复的独立试验为n重伯努利试验。\n",
    "\n",
    "这里“重复”是指在每次试验中$P(A)=p$保持不变；“独立”是指各次试验的结果互不影响，若以$C_i$记第 i 次试验的结果，$C_i$为$A$或$\\overline{A}$, i=1,2,...,n。“独立”是指\n",
    "$$ P(C_{1}C_{2}...C{n}) = P(C_1)P(C_2)...P(C_n) $$\n",
    "\n",
    "以 X 表示n重伯努利试验中事件 A 发生的次数，X 是一个随机变量，X 所有可能取的值为0, 1, 2, ..., n。由于各次试验是相互独立的，因为事件 A 在指定的$k(0\\leq k \\leq n)$次试验中发生，在其他n - k次试验中 A 不发生的概率为\n",
    "$$  \\underbrace{\\left({p \\cdot p \\cdot ... \\cdot p}\\right)}_k \\cdot \\underbrace{\\left({(1-p) \\cdot (1-p) \\cdot ... \\cdot (1-p)}\\right)}_{n-k}  = p^{k}(1-p)^{n-k}$$\n",
    "这种指定的方式共有$\\binom{n}{k}$种，它们是两两互不相容的，故在 n 次试验中 A 发生 k 次的概率为$\\binom{n}{k}p^{k}(1-p)^{n-k}$，记$q=1-p$，即有\n",
    "$$ P\\{X=k\\} = \\binom{n}{k}p^{k}q^{n-k}, k=0,1,2,..,n $$\n",
    "我们称随机变量 X 服从参数为n, p的二项分布，并记为$X \\sim b(n, p)$。\n",
    "\n",
    "特别，当n=1时，二项分布化为$P\\{X=k\\}=p^{k}q^{1-k}, k=0,1$，这就是(0 - 1)分布。"
   ]
  },
  {
   "cell_type": "markdown",
   "metadata": {},
   "source": [
    "### 4. 泊松分布 Poisson Distribution\n",
    "\n",
    "设随机变量 X 所有可能取的值为0, 1, 2, ..., 其中$\\lambda > 0$是常数，则称 X 服从参数为$\\lambda$的泊松分布，记为$X \\sim \\pi(\\lambda)$。\n",
    "\n",
    "易知，$P\\{X=k\\}\\geq0,k=0,1,2,...$，且有\n",
    "$$ \\sum_{k=0}^\\infty P\\{X=k\\} = \\sum_{k=0}^\\infty \\frac{\\lambda^{k}e^{-\\lambda}}{k!} = e^{-\\lambda}\\sum_{k=0}^\\infty \\frac{\\lambda^k}{k!} = e^{-\\lambda} \\cdot e^{\\lambda} = 1 $$\n",
    "\n",
    "具有泊松分布的随机变量在实际应用中是非常多的。例如，一本书一页中的印刷错误数、某地区在一天内邮递遗失的信件数、某一医院在一天内的急诊病人数、某一地区一个时间间隔内发生交通事故的次数、在一个时间间隔内某种放射性物质发出的、经过计数器的$\\alpha$粒子数等都服从泊松分布。"
   ]
  },
  {
   "cell_type": "markdown",
   "metadata": {},
   "source": [
    "### 5. 均匀分布 Uniform Distribution\n",
    "\n",
    "若连续型随机变量 X 具有概率密度\n",
    "$$ f(x) =\\left\\{\n",
    "\\begin{aligned}\n",
    "& \\frac{1}{b-a}, & a < x < b, \\\\\n",
    "& 0, & 其它 \\\\\n",
    "\\end{aligned}\n",
    "\\right.\n",
    "$$\n",
    "则称 X 在区间(a, b)上服从均匀分布，记为$X \\sim U(a, b)$"
   ]
  },
  {
   "cell_type": "markdown",
   "metadata": {},
   "source": [
    "### 6. 指数分布 Exponential Distribution\n",
    "\n",
    "若连续型随机变量 X 具有概率密度\n",
    "$$ f(x) =\\left\\{\n",
    "\\begin{aligned}\n",
    "& \\frac{1}{\\theta}e^{-\\frac{x}{\\theta}}, & x > 0, \\\\\n",
    "& 0, & 其它 \\\\\n",
    "\\end{aligned}\n",
    "\\right.\n",
    "$$\n",
    "其中$\\theta > 0$为常数，则称 X 服从参数为$\\theta$的指数分布。"
   ]
  },
  {
   "cell_type": "markdown",
   "metadata": {},
   "source": [
    "### 7. 正态分布 Normal Distribution"
   ]
  }
 ],
 "metadata": {
  "anaconda-cloud": {},
  "kernelspec": {
   "display_name": "Python 2",
   "language": "python",
   "name": "python2"
  },
  "language_info": {
   "codemirror_mode": {
    "name": "ipython",
    "version": 2
   },
   "file_extension": ".py",
   "mimetype": "text/x-python",
   "name": "python",
   "nbconvert_exporter": "python",
   "pygments_lexer": "ipython2",
   "version": "2.7.13"
  }
 },
 "nbformat": 4,
 "nbformat_minor": 1
}
