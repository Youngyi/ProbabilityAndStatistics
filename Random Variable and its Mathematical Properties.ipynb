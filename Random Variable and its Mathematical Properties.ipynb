{
 "cells": [
  {
   "cell_type": "markdown",
   "metadata": {},
   "source": [
    "# 随机变量及其数字特征 Random Variable and its Mathematical Properties\n",
    "\n",
    "由随机变量的分布所确定的，能刻画随机变量某一方面的特征的常数统称为数字特征，它在理论和实际应用中都很重要。本章将介绍几个重要的数字特征：数学期望、方差、相关系数和矩。\n",
    "\n",
    "本节包括以下内容：\n",
    "1. 数学期望 Mathematical Expectation\n",
    "2. 方差 Variance\n",
    "3. 协方差及相关系数 Covariance and Correlation\n",
    "4. 矩、协方差矩阵 Moment, Covariance Matrix"
   ]
  },
  {
   "cell_type": "markdown",
   "metadata": {},
   "source": [
    "### 1. 数学期望 Mathematical Expectation\n",
    "\n",
    "**定义**：设离散型随机变量 $X$ 的分布律（概率质量函数）为\n",
    "$$ P{X=x_k} = p_k, k=1,2,..., $$\n",
    "若级数\n",
    "$$ \\sum_{k=1}^\\infty x_kp_k $$\n",
    "绝对收敛，则称级数 $\\sum_{k=1}^\\infty x_kp_k$ 的和为随机变量 $X$ 的**数学期望 Mathematical Expectation**，记为 $E(X)$，即\n",
    "$$ E(X) = \\sum_{k=1}^\\infty x_kp_k $$\n",
    "\n",
    "设连续型随机变量 $X$ 的概率密度为 $f(x)$，若积分\n",
    "$$ \\int_{-\\infty}^{\\infty}xf(x)dx $$\n",
    "绝对收敛，则称积分 $\\int_{-\\infty}^{\\infty}xf(x)dx$ 的值为随机变量 $X$ 的数学期望，记为 $E(X)$，即\n",
    "$$ E(X) = \\int_{-\\infty}^{\\infty}xf(x)dx $$\n",
    "\n",
    "数学期望简称**期望 Expectation**，简称**均值 Mean Value**。\n",
    "\n",
    "数学期望 $E(X)$ 完全由随机变量 $X$ 的概率分布所确定。若 $X$ 服从某以分布，也称 $E(X)$ 是这一分布的数学期望。\n",
    "\n",
    "**定理**：设 $Y$ 是随机变量 $X$ 的函数：$Y=g(X)$（$g$ 是连续函数）。\n",
    "\n",
    "(i) 如果 $X$ 是离散型随机变量，它的分布律为 $P{X=x_k}=p_k, k=1,2,...$，若 $\\sum_{k=1}^\\infty g(x_k)p_k$ 绝对收敛，则有\n",
    "$$ E(Y) = E[g(X)] = \\sum_{k=1}^\\infty g(x_k)p_k $$\n",
    "\n",
    "(ii) 如果 $X$ 是连续型随机变量，它的概率密度为 $f(x)$，若 $\\int_{-\\infty}^{\\infty} g(x)f(x)dx$ 绝对收敛，则有\n",
    "$$ E(Y) = E[g(X)] = \\int_{-\\infty}^{\\infty} g(x)f(x)dx $$\n",
    "\n",
    "定理的重要意义在于当我们求 $E(Y)$ 时，不必算出 $Y$ 的分布律或概率密度，而只需要利用 $X$ 的分布律或概率密度就可以了。\n",
    "\n",
    "**数学期望的几个重要性质**：以下设所遇到的随机变量的数学期望存在。\n",
    "\n",
    "1) 设 $C$ 是常数，则有 $E(C)=C$。\n",
    "\n",
    "2) 设 $X$ 是一个随机变量，$C$ 是常数，则有 $E(CX) = CE(X)$。\n",
    "\n",
    "3) 设 $X, Y$ 是两个随机变量，则有 $E(X+Y) = E(X) + E(Y)$。这一性质可以推广到任意有限个随机变量之和的情况。\n",
    "\n",
    "4) 设 $X, Y$ 是相互独立的随机变量，则有 $E(XY) = E(X)E(Y)$。这一性质可以推广到任意有限个相互独立的随机变量之积的情况。"
   ]
  },
  {
   "cell_type": "code",
   "execution_count": null,
   "metadata": {
    "collapsed": true
   },
   "outputs": [],
   "source": []
  }
 ],
 "metadata": {
  "anaconda-cloud": {},
  "kernelspec": {
   "display_name": "Python [default]",
   "language": "python",
   "name": "python3"
  },
  "language_info": {
   "codemirror_mode": {
    "name": "ipython",
    "version": 3
   },
   "file_extension": ".py",
   "mimetype": "text/x-python",
   "name": "python",
   "nbconvert_exporter": "python",
   "pygments_lexer": "ipython3",
   "version": "3.5.2"
  }
 },
 "nbformat": 4,
 "nbformat_minor": 1
}
