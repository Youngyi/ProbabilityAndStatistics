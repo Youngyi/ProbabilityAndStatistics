{
 "cells": [
  {
   "cell_type": "markdown",
   "metadata": {},
   "source": [
    "# 参数估计 Parameter Estimation"
   ]
  },
  {
   "cell_type": "markdown",
   "metadata": {},
   "source": [
    "统计推断的基本问题可以分为两大类，一类是估计问题，另一类是假设检验问题。\n",
    "\n",
    "本章包括以下内容：\n",
    "    1. 点估计 Point Estimations\n",
    "    2. 区间估计 Interval Estimation"
   ]
  },
  {
   "cell_type": "markdown",
   "metadata": {},
   "source": [
    "## 1. 点估计 Point Estimation\n",
    "\n",
    "设总体 $X$ 的分布函数的形式已知，但它的一个或多个参数未知，借助于总体 $X$ 的一个样本来估计总体位置参数的值的问题称为参数的点估计问题。\n",
    "\n",
    "点估计问题的一般提法如下：设总体 $X$ 的分布函数 $F(x;\\theta)$ 的形式为已知，$\\theta$ 是待估参数。$X_1, X_2, ..., X_n$ 是 $X$ 的一个样本，$x_1, x_2, ..., x_n$ 是对应的一个样本值。点估计问题就是要构造一个适当的统计量 $\\hat{\\theta}(X_1, X_2, ..., X_n)$，用它的观察值 $\\hat{\\theta}(x_1, x_2, ..., x_n)$ 作为未知参数 $\\theta$ 的近似值。我们称 $\\hat{\\theta}(X_1, X_2, ..., X_n)$ 为 $\\theta$ 的**估计量**，称 $\\hat{\\theta}(x_1, x_2, ..., x_n)$ 为 $\\theta$ 的**估计值**。在不致混淆的情况下统称估计量和估计值为**估计**，并都简记为 $\\theta$。由于估计量是样本的函数。因此对于不同的样本值，$\\theta$ 的估计值一般是不相同的。\n",
    "\n",
    "下面介绍两种常用的构造估计量的方法：矩估计法和最大似然估计法\n",
    "\n",
    "### （一）矩估计法 Method of Moments\n",
    "\n",
    "设 $X$ 为连续型随机变量，其概率密度为 $f(x;\\theta_1, \\theta_2, ..., \\theta_k)$，或 $X$ 为离散型随机变量，其分布律为 $P\\{X=x\\}=p(x;\\theta_1, \\theta_2, ..., \\theta_k)$，其中 $\\theta_1, \\theta_2, ..., \\theta_k$ 为待估参数，$X_1, X_2, ..., X_k$ 是来自 $X$ 的样本。假设总体 $X$ 的前 $k$ 阶矩存在：\n",
    "\n",
    "$$ \\mu_l = E(X^l) = \\int_{-\\infty}^{\\infty} x^lf(x;\\theta_1, \\theta_2, ..., \\theta_k)dx （X连续型） $$\n",
    "$$ \\mu_l = E(X^l) = \\sum_{x \\in R_X} x^lp(x;\\theta_1, \\theta_2, ..., \\theta_k) （X离散型 $$\n",
    "$$ l=1,2,...,k; R_X是X可能取值的范围 $$\n",
    "\n",
    "一般来说，它们是 $\\theta_1, \\theta_2, ..., \\theta_k$ 的函数。\n",
    "\n",
    "基于样本矩 $A_l=\\frac{1}{n}\\sum_{i=1}^{n}X_i^l$ 依概率收敛于相应的总体矩 $u^l(l=1,2,...,k)$，样本矩的连续函数依概率收敛于相应的总体矩的连续函数。使用样本矩作为相应的总体矩的估计量，而以样本矩的连续函数作为相应的总体矩的连续函数的估计量。这种估计方法称为**矩估计法**。矩估计法的具体做法如下：设\n",
    "$$\n",
    "\\begin{equation}\n",
    "\\begin{cases}\n",
    "\\mu_1 = \\mu_1(\\theta_1, \\theta_2, ..., \\theta_k) \\\\\n",
    "\\mu_2 = \\mu_2(\\theta_1, \\theta_2, ..., \\theta_k) \\\\\n",
    "\\vdots \\\\\n",
    "\\mu_k = \\mu_k(\\theta_1, \\theta_2, ..., \\theta_k)\n",
    "\\end{cases}\n",
    "\\end{equation}\n",
    "$$\n",
    "这是一个包含 $k$ 个未知参数 $\\theta_1, \\theta_2, ..., \\theta_k$ 的联立方程组。一般来说，可以从中解出 $\\theta_1, \\theta_2, ..., \\theta_k$，得到\n",
    "$$\n",
    "\\begin{equation}\n",
    "\\begin{cases}\n",
    "\\theta_1 = \\theta_1(\\mu_1, \\mu_2, ..., \\mu_k) \\\\\n",
    "\\theta_2 = \\theta_2(\\mu_1, \\mu_2, ..., \\mu_k) \\\\\n",
    "\\vdots \\\\\n",
    "\\theta_k = \\theta_k(\\mu_1, \\mu_2, ..., \\mu_k)\n",
    "\\end{cases}\n",
    "\\end{equation}\n",
    "$$\n",
    "以 $A_i$ 分别代替上式中的 $\\mu_i, i=1,2,...,k$，以\n",
    "$$ \\hat{\\mu_i} = \\mu_i(A_1, A_2, ..., A_k), i=1,2,...,k $$\n",
    "分别作为 $\\theta_i, i=1,2,...,k$ 的估计量，这种估计量称为矩估计量。矩估计量的观察值称为矩估计值。\n",
    "\n",
    "\n",
    "### （二）最大似然估计法 Method of Maximum Likelyhood\n",
    "\n"
   ]
  },
  {
   "cell_type": "markdown",
   "metadata": {},
   "source": [
    "## 2. 区间估计 Interval Estimation\n",
    "\n",
    "Todo"
   ]
  }
 ],
 "metadata": {
  "anaconda-cloud": {},
  "kernelspec": {
   "display_name": "Python [conda root]",
   "language": "python",
   "name": "conda-root-py"
  },
  "language_info": {
   "codemirror_mode": {
    "name": "ipython",
    "version": 3
   },
   "file_extension": ".py",
   "mimetype": "text/x-python",
   "name": "python",
   "nbconvert_exporter": "python",
   "pygments_lexer": "ipython3",
   "version": "3.5.2"
  }
 },
 "nbformat": 4,
 "nbformat_minor": 1
}
